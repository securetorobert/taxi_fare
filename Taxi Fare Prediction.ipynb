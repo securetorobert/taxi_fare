{
 "cells": [
  {
   "cell_type": "code",
   "execution_count": 1,
   "metadata": {},
   "outputs": [],
   "source": [
    "import pandas as pd"
   ]
  },
  {
   "cell_type": "code",
   "execution_count": 2,
   "metadata": {},
   "outputs": [
    {
     "name": "stdout",
     "output_type": "stream",
     "text": [
      "<class 'pandas.core.frame.DataFrame'>\n",
      "RangeIndex: 100000 entries, 0 to 99999\n",
      "Data columns (total 8 columns):\n",
      "key                  100000 non-null object\n",
      "fare_amount          100000 non-null float64\n",
      "pickup_datetime      100000 non-null object\n",
      "pickup_longitude     100000 non-null float64\n",
      "pickup_latitude      100000 non-null float64\n",
      "dropoff_longitude    100000 non-null float64\n",
      "dropoff_latitude     100000 non-null float64\n",
      "passenger_count      100000 non-null int64\n",
      "dtypes: float64(5), int64(1), object(2)\n",
      "memory usage: 6.1+ MB\n"
     ]
    }
   ],
   "source": [
    "df = pd.read_csv('./train.csv', nrows=100000)\n",
    "df.info()"
   ]
  },
  {
   "cell_type": "code",
   "execution_count": 3,
   "metadata": {},
   "outputs": [
    {
     "data": {
      "text/html": [
       "<div>\n",
       "<style scoped>\n",
       "    .dataframe tbody tr th:only-of-type {\n",
       "        vertical-align: middle;\n",
       "    }\n",
       "\n",
       "    .dataframe tbody tr th {\n",
       "        vertical-align: top;\n",
       "    }\n",
       "\n",
       "    .dataframe thead th {\n",
       "        text-align: right;\n",
       "    }\n",
       "</style>\n",
       "<table border=\"1\" class=\"dataframe\">\n",
       "  <thead>\n",
       "    <tr style=\"text-align: right;\">\n",
       "      <th></th>\n",
       "      <th>key</th>\n",
       "      <th>fare_amount</th>\n",
       "      <th>pickup_datetime</th>\n",
       "      <th>pickup_longitude</th>\n",
       "      <th>pickup_latitude</th>\n",
       "      <th>dropoff_longitude</th>\n",
       "      <th>dropoff_latitude</th>\n",
       "      <th>passenger_count</th>\n",
       "    </tr>\n",
       "  </thead>\n",
       "  <tbody>\n",
       "    <tr>\n",
       "      <td>0</td>\n",
       "      <td>2009-06-15 17:26:21.0000001</td>\n",
       "      <td>4.5</td>\n",
       "      <td>2009-06-15 17:26:21 UTC</td>\n",
       "      <td>-73.844311</td>\n",
       "      <td>40.721319</td>\n",
       "      <td>-73.841610</td>\n",
       "      <td>40.712278</td>\n",
       "      <td>1</td>\n",
       "    </tr>\n",
       "    <tr>\n",
       "      <td>1</td>\n",
       "      <td>2010-01-05 16:52:16.0000002</td>\n",
       "      <td>16.9</td>\n",
       "      <td>2010-01-05 16:52:16 UTC</td>\n",
       "      <td>-74.016048</td>\n",
       "      <td>40.711303</td>\n",
       "      <td>-73.979268</td>\n",
       "      <td>40.782004</td>\n",
       "      <td>1</td>\n",
       "    </tr>\n",
       "    <tr>\n",
       "      <td>2</td>\n",
       "      <td>2011-08-18 00:35:00.00000049</td>\n",
       "      <td>5.7</td>\n",
       "      <td>2011-08-18 00:35:00 UTC</td>\n",
       "      <td>-73.982738</td>\n",
       "      <td>40.761270</td>\n",
       "      <td>-73.991242</td>\n",
       "      <td>40.750562</td>\n",
       "      <td>2</td>\n",
       "    </tr>\n",
       "    <tr>\n",
       "      <td>3</td>\n",
       "      <td>2012-04-21 04:30:42.0000001</td>\n",
       "      <td>7.7</td>\n",
       "      <td>2012-04-21 04:30:42 UTC</td>\n",
       "      <td>-73.987130</td>\n",
       "      <td>40.733143</td>\n",
       "      <td>-73.991567</td>\n",
       "      <td>40.758092</td>\n",
       "      <td>1</td>\n",
       "    </tr>\n",
       "    <tr>\n",
       "      <td>4</td>\n",
       "      <td>2010-03-09 07:51:00.000000135</td>\n",
       "      <td>5.3</td>\n",
       "      <td>2010-03-09 07:51:00 UTC</td>\n",
       "      <td>-73.968095</td>\n",
       "      <td>40.768008</td>\n",
       "      <td>-73.956655</td>\n",
       "      <td>40.783762</td>\n",
       "      <td>1</td>\n",
       "    </tr>\n",
       "  </tbody>\n",
       "</table>\n",
       "</div>"
      ],
      "text/plain": [
       "                             key  fare_amount          pickup_datetime  \\\n",
       "0    2009-06-15 17:26:21.0000001          4.5  2009-06-15 17:26:21 UTC   \n",
       "1    2010-01-05 16:52:16.0000002         16.9  2010-01-05 16:52:16 UTC   \n",
       "2   2011-08-18 00:35:00.00000049          5.7  2011-08-18 00:35:00 UTC   \n",
       "3    2012-04-21 04:30:42.0000001          7.7  2012-04-21 04:30:42 UTC   \n",
       "4  2010-03-09 07:51:00.000000135          5.3  2010-03-09 07:51:00 UTC   \n",
       "\n",
       "   pickup_longitude  pickup_latitude  dropoff_longitude  dropoff_latitude  \\\n",
       "0        -73.844311        40.721319         -73.841610         40.712278   \n",
       "1        -74.016048        40.711303         -73.979268         40.782004   \n",
       "2        -73.982738        40.761270         -73.991242         40.750562   \n",
       "3        -73.987130        40.733143         -73.991567         40.758092   \n",
       "4        -73.968095        40.768008         -73.956655         40.783762   \n",
       "\n",
       "   passenger_count  \n",
       "0                1  \n",
       "1                1  \n",
       "2                2  \n",
       "3                1  \n",
       "4                1  "
      ]
     },
     "execution_count": 3,
     "metadata": {},
     "output_type": "execute_result"
    }
   ],
   "source": [
    "df.head()"
   ]
  },
  {
   "cell_type": "markdown",
   "metadata": {},
   "source": [
    "### convert pickup_datetime to a date field"
   ]
  },
  {
   "cell_type": "code",
   "execution_count": 4,
   "metadata": {},
   "outputs": [],
   "source": [
    "df['_pickup_datetime'] = pd.to_datetime(df['pickup_datetime'])"
   ]
  },
  {
   "cell_type": "code",
   "execution_count": 5,
   "metadata": {},
   "outputs": [
    {
     "name": "stdout",
     "output_type": "stream",
     "text": [
      "<class 'pandas.core.frame.DataFrame'>\n",
      "RangeIndex: 100000 entries, 0 to 99999\n",
      "Data columns (total 9 columns):\n",
      "key                  100000 non-null object\n",
      "fare_amount          100000 non-null float64\n",
      "pickup_datetime      100000 non-null object\n",
      "pickup_longitude     100000 non-null float64\n",
      "pickup_latitude      100000 non-null float64\n",
      "dropoff_longitude    100000 non-null float64\n",
      "dropoff_latitude     100000 non-null float64\n",
      "passenger_count      100000 non-null int64\n",
      "_pickup_datetime     100000 non-null datetime64[ns, UTC]\n",
      "dtypes: datetime64[ns, UTC](1), float64(5), int64(1), object(2)\n",
      "memory usage: 6.9+ MB\n"
     ]
    }
   ],
   "source": [
    "df.info()"
   ]
  },
  {
   "cell_type": "markdown",
   "metadata": {},
   "source": [
    "### extract month"
   ]
  },
  {
   "cell_type": "code",
   "execution_count": 6,
   "metadata": {},
   "outputs": [],
   "source": [
    "df['_month'] = df['_pickup_datetime'].dt.month"
   ]
  },
  {
   "cell_type": "code",
   "execution_count": 7,
   "metadata": {},
   "outputs": [
    {
     "name": "stdout",
     "output_type": "stream",
     "text": [
      "<class 'pandas.core.frame.DataFrame'>\n",
      "RangeIndex: 100000 entries, 0 to 99999\n",
      "Data columns (total 10 columns):\n",
      "key                  100000 non-null object\n",
      "fare_amount          100000 non-null float64\n",
      "pickup_datetime      100000 non-null object\n",
      "pickup_longitude     100000 non-null float64\n",
      "pickup_latitude      100000 non-null float64\n",
      "dropoff_longitude    100000 non-null float64\n",
      "dropoff_latitude     100000 non-null float64\n",
      "passenger_count      100000 non-null int64\n",
      "_pickup_datetime     100000 non-null datetime64[ns, UTC]\n",
      "_month               100000 non-null int64\n",
      "dtypes: datetime64[ns, UTC](1), float64(5), int64(2), object(2)\n",
      "memory usage: 7.6+ MB\n"
     ]
    }
   ],
   "source": [
    "df.info()"
   ]
  },
  {
   "cell_type": "code",
   "execution_count": 8,
   "metadata": {},
   "outputs": [
    {
     "data": {
      "text/plain": [
       "3     9294\n",
       "5     9273\n",
       "4     9134\n",
       "1     9066\n",
       "6     9036\n",
       "2     8613\n",
       "10    7963\n",
       "12    7828\n",
       "11    7600\n",
       "9     7594\n",
       "7     7472\n",
       "8     7127\n",
       "Name: _month, dtype: int64"
      ]
     },
     "execution_count": 8,
     "metadata": {},
     "output_type": "execute_result"
    }
   ],
   "source": [
    "df['_month'].value_counts()"
   ]
  },
  {
   "cell_type": "markdown",
   "metadata": {},
   "source": [
    "### extract day"
   ]
  },
  {
   "cell_type": "code",
   "execution_count": 9,
   "metadata": {},
   "outputs": [],
   "source": [
    "df['_day'] = df['_pickup_datetime'].dt.day"
   ]
  },
  {
   "cell_type": "code",
   "execution_count": 10,
   "metadata": {},
   "outputs": [
    {
     "name": "stdout",
     "output_type": "stream",
     "text": [
      "<class 'pandas.core.frame.DataFrame'>\n",
      "RangeIndex: 100000 entries, 0 to 99999\n",
      "Data columns (total 11 columns):\n",
      "key                  100000 non-null object\n",
      "fare_amount          100000 non-null float64\n",
      "pickup_datetime      100000 non-null object\n",
      "pickup_longitude     100000 non-null float64\n",
      "pickup_latitude      100000 non-null float64\n",
      "dropoff_longitude    100000 non-null float64\n",
      "dropoff_latitude     100000 non-null float64\n",
      "passenger_count      100000 non-null int64\n",
      "_pickup_datetime     100000 non-null datetime64[ns, UTC]\n",
      "_month               100000 non-null int64\n",
      "_day                 100000 non-null int64\n",
      "dtypes: datetime64[ns, UTC](1), float64(5), int64(3), object(2)\n",
      "memory usage: 8.4+ MB\n"
     ]
    }
   ],
   "source": [
    "df.info()"
   ]
  },
  {
   "cell_type": "markdown",
   "metadata": {},
   "source": [
    "### extract day of week"
   ]
  },
  {
   "cell_type": "code",
   "execution_count": 11,
   "metadata": {},
   "outputs": [],
   "source": [
    "df['_dayofweek'] = df['_pickup_datetime'].dt.dayofweek"
   ]
  },
  {
   "cell_type": "code",
   "execution_count": 12,
   "metadata": {},
   "outputs": [
    {
     "name": "stdout",
     "output_type": "stream",
     "text": [
      "<class 'pandas.core.frame.DataFrame'>\n",
      "RangeIndex: 100000 entries, 0 to 99999\n",
      "Data columns (total 12 columns):\n",
      "key                  100000 non-null object\n",
      "fare_amount          100000 non-null float64\n",
      "pickup_datetime      100000 non-null object\n",
      "pickup_longitude     100000 non-null float64\n",
      "pickup_latitude      100000 non-null float64\n",
      "dropoff_longitude    100000 non-null float64\n",
      "dropoff_latitude     100000 non-null float64\n",
      "passenger_count      100000 non-null int64\n",
      "_pickup_datetime     100000 non-null datetime64[ns, UTC]\n",
      "_month               100000 non-null int64\n",
      "_day                 100000 non-null int64\n",
      "_dayofweek           100000 non-null int64\n",
      "dtypes: datetime64[ns, UTC](1), float64(5), int64(4), object(2)\n",
      "memory usage: 9.2+ MB\n"
     ]
    }
   ],
   "source": [
    "df.info()"
   ]
  },
  {
   "cell_type": "code",
   "execution_count": 13,
   "metadata": {},
   "outputs": [
    {
     "data": {
      "text/plain": [
       "4    15331\n",
       "5    15281\n",
       "3    14943\n",
       "2    14598\n",
       "1    13900\n",
       "6    12994\n",
       "0    12953\n",
       "Name: _dayofweek, dtype: int64"
      ]
     },
     "execution_count": 13,
     "metadata": {},
     "output_type": "execute_result"
    }
   ],
   "source": [
    "df['_dayofweek'].value_counts()"
   ]
  },
  {
   "cell_type": "markdown",
   "metadata": {},
   "source": [
    "### extract hour of day"
   ]
  },
  {
   "cell_type": "code",
   "execution_count": 14,
   "metadata": {},
   "outputs": [],
   "source": [
    "df['_hour'] = df['_pickup_datetime'].dt.hour"
   ]
  },
  {
   "cell_type": "code",
   "execution_count": 15,
   "metadata": {},
   "outputs": [
    {
     "name": "stdout",
     "output_type": "stream",
     "text": [
      "<class 'pandas.core.frame.DataFrame'>\n",
      "RangeIndex: 100000 entries, 0 to 99999\n",
      "Data columns (total 13 columns):\n",
      "key                  100000 non-null object\n",
      "fare_amount          100000 non-null float64\n",
      "pickup_datetime      100000 non-null object\n",
      "pickup_longitude     100000 non-null float64\n",
      "pickup_latitude      100000 non-null float64\n",
      "dropoff_longitude    100000 non-null float64\n",
      "dropoff_latitude     100000 non-null float64\n",
      "passenger_count      100000 non-null int64\n",
      "_pickup_datetime     100000 non-null datetime64[ns, UTC]\n",
      "_month               100000 non-null int64\n",
      "_day                 100000 non-null int64\n",
      "_dayofweek           100000 non-null int64\n",
      "_hour                100000 non-null int64\n",
      "dtypes: datetime64[ns, UTC](1), float64(5), int64(5), object(2)\n",
      "memory usage: 9.9+ MB\n"
     ]
    }
   ],
   "source": [
    "df.info()"
   ]
  },
  {
   "cell_type": "code",
   "execution_count": 16,
   "metadata": {},
   "outputs": [
    {
     "data": {
      "text/plain": [
       "18    6181\n",
       "19    6165\n",
       "20    5826\n",
       "21    5682\n",
       "22    5537\n",
       "14    5029\n",
       "23    4952\n",
       "17    4895\n",
       "13    4889\n",
       "12    4864\n",
       "15    4792\n",
       "11    4774\n",
       "9     4722\n",
       "10    4480\n",
       "8     4460\n",
       "16    4118\n",
       "0     3881\n",
       "7     3734\n",
       "1     2896\n",
       "2     2200\n",
       "6     2107\n",
       "3     1605\n",
       "4     1186\n",
       "5     1025\n",
       "Name: _hour, dtype: int64"
      ]
     },
     "execution_count": 16,
     "metadata": {},
     "output_type": "execute_result"
    }
   ],
   "source": [
    "df['_hour'].value_counts()"
   ]
  },
  {
   "cell_type": "markdown",
   "metadata": {},
   "source": [
    "### difference in latitude and longitude"
   ]
  },
  {
   "cell_type": "code",
   "execution_count": 17,
   "metadata": {},
   "outputs": [],
   "source": [
    "_lon_diff = df['pickup_longitude'] - df['dropoff_longitude']\n",
    "df['_lon_diff'] = _lon_diff"
   ]
  },
  {
   "cell_type": "code",
   "execution_count": 18,
   "metadata": {},
   "outputs": [],
   "source": [
    "_lat_diff = df['pickup_latitude'] - df['dropoff_latitude']\n",
    "df['_lat_diff'] = _lat_diff"
   ]
  },
  {
   "cell_type": "code",
   "execution_count": 19,
   "metadata": {},
   "outputs": [
    {
     "name": "stdout",
     "output_type": "stream",
     "text": [
      "<class 'pandas.core.frame.DataFrame'>\n",
      "RangeIndex: 100000 entries, 0 to 99999\n",
      "Data columns (total 15 columns):\n",
      "key                  100000 non-null object\n",
      "fare_amount          100000 non-null float64\n",
      "pickup_datetime      100000 non-null object\n",
      "pickup_longitude     100000 non-null float64\n",
      "pickup_latitude      100000 non-null float64\n",
      "dropoff_longitude    100000 non-null float64\n",
      "dropoff_latitude     100000 non-null float64\n",
      "passenger_count      100000 non-null int64\n",
      "_pickup_datetime     100000 non-null datetime64[ns, UTC]\n",
      "_month               100000 non-null int64\n",
      "_day                 100000 non-null int64\n",
      "_dayofweek           100000 non-null int64\n",
      "_hour                100000 non-null int64\n",
      "_lon_diff            100000 non-null float64\n",
      "_lat_diff            100000 non-null float64\n",
      "dtypes: datetime64[ns, UTC](1), float64(7), int64(5), object(2)\n",
      "memory usage: 11.4+ MB\n"
     ]
    }
   ],
   "source": [
    "df.info()"
   ]
  },
  {
   "cell_type": "code",
   "execution_count": 38,
   "metadata": {},
   "outputs": [
    {
     "data": {
      "text/plain": [
       "8     3476\n",
       "13    3452\n",
       "17    3439\n",
       "12    3428\n",
       "14    3427\n",
       "16    3417\n",
       "19    3412\n",
       "21    3408\n",
       "7     3395\n",
       "15    3388\n",
       "20    3351\n",
       "22    3337\n",
       "18    3326\n",
       "9     3321\n",
       "6     3314\n",
       "23    3313\n",
       "11    3306\n",
       "24    3286\n",
       "10    3286\n",
       "28    3242\n",
       "5     3218\n",
       "3     3208\n",
       "2     3206\n",
       "4     3129\n",
       "25    3077\n",
       "26    3074\n",
       "1     3063\n",
       "27    3042\n",
       "30    2928\n",
       "29    2908\n",
       "31    1823\n",
       "Name: _day, dtype: int64"
      ]
     },
     "execution_count": 38,
     "metadata": {},
     "output_type": "execute_result"
    }
   ],
   "source": [
    "df['_day'].value_counts()"
   ]
  },
  {
   "cell_type": "markdown",
   "metadata": {},
   "source": [
    "### Create Feature Columns"
   ]
  },
  {
   "cell_type": "code",
   "execution_count": 20,
   "metadata": {},
   "outputs": [
    {
     "name": "stdout",
     "output_type": "stream",
     "text": [
      "Collecting tensorflow\n",
      "\u001b[33m  Retrying (Retry(total=4, connect=None, read=None, redirect=None, status=None)) after connection broken by 'NewConnectionError('<pip._vendor.urllib3.connection.VerifiedHTTPSConnection object at 0x104439518>: Failed to establish a new connection: [Errno 8] nodename nor servname provided, or not known')': /simple/tensorflow/\u001b[0m\n",
      "  Using cached https://files.pythonhosted.org/packages/2c/72/6b3264aa2889b7dde7663464b99587d95cd6a5f3b9b30181f14d78a63e64/tensorflow-2.0.0-cp37-cp37m-macosx_10_11_x86_64.whl\n",
      "Requirement already satisfied: numpy<2.0,>=1.16.0 in /Users/robert/anaconda3/lib/python3.7/site-packages (from tensorflow) (1.17.2)\n",
      "Requirement already satisfied: astor>=0.6.0 in /Users/robert/anaconda3/lib/python3.7/site-packages (from tensorflow) (0.8.0)\n",
      "Requirement already satisfied: opt-einsum>=2.3.2 in /Users/robert/anaconda3/lib/python3.7/site-packages (from tensorflow) (3.1.0)\n",
      "Requirement already satisfied: protobuf>=3.6.1 in /Users/robert/anaconda3/lib/python3.7/site-packages (from tensorflow) (3.8.0)\n",
      "Requirement already satisfied: tensorflow-estimator<2.1.0,>=2.0.0 in /Users/robert/anaconda3/lib/python3.7/site-packages (from tensorflow) (2.0.0)\n",
      "Requirement already satisfied: wheel>=0.26 in /Users/robert/anaconda3/lib/python3.7/site-packages (from tensorflow) (0.32.3)\n",
      "Requirement already satisfied: six>=1.10.0 in /Users/robert/anaconda3/lib/python3.7/site-packages (from tensorflow) (1.12.0)\n",
      "Requirement already satisfied: keras-applications>=1.0.8 in /Users/robert/anaconda3/lib/python3.7/site-packages (from tensorflow) (1.0.8)\n",
      "Requirement already satisfied: gast==0.2.2 in /Users/robert/anaconda3/lib/python3.7/site-packages (from tensorflow) (0.2.2)\n",
      "Requirement already satisfied: grpcio>=1.8.6 in /Users/robert/anaconda3/lib/python3.7/site-packages (from tensorflow) (1.21.1)\n",
      "Collecting wrapt>=1.11.1 (from tensorflow)\n",
      "Requirement already satisfied: absl-py>=0.7.0 in /Users/robert/anaconda3/lib/python3.7/site-packages (from tensorflow) (0.7.1)\n",
      "Requirement already satisfied: tensorboard<2.1.0,>=2.0.0 in /Users/robert/anaconda3/lib/python3.7/site-packages (from tensorflow) (2.0.0)\n",
      "Requirement already satisfied: google-pasta>=0.1.6 in /Users/robert/anaconda3/lib/python3.7/site-packages (from tensorflow) (0.1.7)\n",
      "Requirement already satisfied: termcolor>=1.1.0 in /Users/robert/anaconda3/lib/python3.7/site-packages (from tensorflow) (1.1.0)\n",
      "Requirement already satisfied: keras-preprocessing>=1.0.5 in /Users/robert/anaconda3/lib/python3.7/site-packages (from tensorflow) (1.1.0)\n",
      "Requirement already satisfied: setuptools in /Users/robert/anaconda3/lib/python3.7/site-packages (from protobuf>=3.6.1->tensorflow) (40.6.3)\n",
      "Requirement already satisfied: h5py in /Users/robert/anaconda3/lib/python3.7/site-packages (from keras-applications>=1.0.8->tensorflow) (2.8.0)\n",
      "Requirement already satisfied: markdown>=2.6.8 in /Users/robert/anaconda3/lib/python3.7/site-packages (from tensorboard<2.1.0,>=2.0.0->tensorflow) (3.1.1)\n",
      "Requirement already satisfied: werkzeug>=0.11.15 in /Users/robert/anaconda3/lib/python3.7/site-packages (from tensorboard<2.1.0,>=2.0.0->tensorflow) (0.14.1)\n",
      "Installing collected packages: wrapt, tensorflow\n",
      "  Found existing installation: wrapt 1.10.11\n",
      "\u001b[31mCannot uninstall 'wrapt'. It is a distutils installed project and thus we cannot accurately determine which files belong to it which would lead to only a partial uninstall.\u001b[0m\n"
     ]
    }
   ],
   "source": [
    "!pip install tensorflow"
   ]
  },
  {
   "cell_type": "code",
   "execution_count": 21,
   "metadata": {},
   "outputs": [],
   "source": [
    "import tensorflow as tf"
   ]
  },
  {
   "cell_type": "code",
   "execution_count": 22,
   "metadata": {},
   "outputs": [
    {
     "name": "stdout",
     "output_type": "stream",
     "text": [
      "2.0.0\n"
     ]
    }
   ],
   "source": [
    "print(tf.__version__)"
   ]
  },
  {
   "cell_type": "markdown",
   "metadata": {},
   "source": [
    "### Features"
   ]
  },
  {
   "cell_type": "code",
   "execution_count": 23,
   "metadata": {},
   "outputs": [],
   "source": [
    "import numpy as np"
   ]
  },
  {
   "cell_type": "code",
   "execution_count": 72,
   "metadata": {},
   "outputs": [],
   "source": [
    "feature_columns = []\n",
    "\n",
    "# numeric columns\n",
    "pickup_lon = tf.feature_column.numeric_column('pickup_longitude', dtype=tf.dtypes.float64)\n",
    "dropoff_lon = tf.feature_column.numeric_column('dropoff_longitude', dtype=tf.dtypes.float64)\n",
    "pickup_lat = tf.feature_column.numeric_column('pickup_latitude', dtype=tf.dtypes.float64)\n",
    "dropoff_lat = tf.feature_column.numeric_column('dropoff_latitude', dtype=tf.dtypes.float64)\n",
    "\n",
    "lat_diff = tf.feature_column.numeric_column('_lat_diff', dtype=tf.dtypes.float64)\n",
    "lon_diff = tf.feature_column.numeric_column('_lon_diff', dtype=tf.dtypes.float64)\n",
    "\n",
    "# categorical columns\n",
    "month = tf.feature_column.categorical_column_with_identity('_month', num_buckets=13)\n",
    "day = tf.feature_column.categorical_column_with_identity('_day', num_buckets=32)\n",
    "dayofweek = tf.feature_column.categorical_column_with_identity('_dayofweek', num_buckets=7)\n",
    "hour = tf.feature_column.categorical_column_with_identity('_hour', num_buckets=24)\n",
    "\n",
    "# bucketized columns\n",
    "b_pickup_lat = tf.feature_column.bucketized_column(pickup_lat, np.linspace(38.0, 42.0, 60 * 4).tolist())\n",
    "b_pickup_lon = tf.feature_column.bucketized_column(pickup_lon, np.linspace(-76.0, -72.0, 60 * 4).tolist())\n",
    "b_dropoff_lat = tf.feature_column.bucketized_column(dropoff_lat, np.linspace(38.0, 42.0, 60 * 4).tolist())\n",
    "b_dropoff_lon = tf.feature_column.bucketized_column(dropoff_lon, np.linspace(-76.0, -72.0, 60 * 4).tolist())\n",
    "\n",
    "# crossed columns\n",
    "dayofweek_x_hour = tf.feature_column.crossed_column([dayofweek, hour], 7 * 24)\n",
    "b_p_lat_x_b_p_lon = tf.feature_column.crossed_column([b_pickup_lat, b_pickup_lon], (60 * 4) ** 2)\n",
    "b_d_lat_x_b_d_lon = tf.feature_column.crossed_column([b_dropoff_lat, b_dropoff_lon], (60 * 4) ** 2)\n",
    "b_pickup_x_b_dropoff = tf.feature_column.crossed_column([b_p_lat_x_b_p_lon, b_d_lat_x_b_d_lon], (60 * 4) ** 4)\n",
    "\n",
    "\n",
    "\n",
    "feature_columns = [pickup_lon, dropoff_lon, pickup_lat, dropoff_lat, month, day, dayofweek, hour]\n",
    "dense_columns = [b_pickup_lat, b_pickup_lon, b_dropoff_lat, b_dropoff_lon]\n",
    "for i in [month, day, dayofweek, hour, dayofweek_x_hour, b_p_lat_x_b_p_lon, b_d_lat_x_b_d_lon]:\n",
    "    dense_columns.append(tf.feature_column.embedding_column(i, 64))\n",
    "#dense_columns.append(b_pickup_x_b_dropoff)\n",
    "#dense_columns = [b_pickup_lat, b_pickup_lon, b_dropoff_lat, b_dropoff_lon, dayofweek_x_hour, b_p_lat_x_b_p_lon, b_d_lat_x_b_d_lon, b_pickup_x_b_dropoff]"
   ]
  },
  {
   "cell_type": "markdown",
   "metadata": {},
   "source": [
    "### Input Functions"
   ]
  },
  {
   "cell_type": "code",
   "execution_count": 24,
   "metadata": {},
   "outputs": [],
   "source": [
    "columns = ['pickup_longitude', 'dropoff_longitude', 'pickup_latitude', 'dropoff_latitude', '_month', '_day', '_dayofweek', '_hour']\n",
    "\n",
    "\n",
    "train_df = df.sample(frac=0.9,random_state=0)\n",
    "test_df = df.drop(train_df.index)\n",
    "\n",
    "def train_fn():\n",
    "  _df = train_df.copy()\n",
    "  labels = _df.pop('fare_amount')\n",
    "  features_df = _df[columns]\n",
    "  ds = tf.data.Dataset.from_tensor_slices( (dict(features_df), labels) )\n",
    "  _ds = ds.shuffle(train_df.shape[0]).batch(64).repeat(5)\n",
    "  \n",
    "  return _ds\n",
    "\n",
    "def eval_fn():\n",
    "  _df = test_df.copy()\n",
    "  labels = _df.pop('fare_amount')\n",
    "  features_df = _df[columns]\n",
    "  ds = tf.data.Dataset.from_tensor_slices( (dict(features_df), labels) )\n",
    "  _ds = ds.batch(64).repeat(1)\n",
    "  \n",
    "  return _ds"
   ]
  },
  {
   "cell_type": "markdown",
   "metadata": {},
   "source": [
    "### Linear Model"
   ]
  },
  {
   "cell_type": "code",
   "execution_count": 73,
   "metadata": {},
   "outputs": [
    {
     "name": "stdout",
     "output_type": "stream",
     "text": [
      "INFO:tensorflow:Using default config.\n",
      "WARNING:tensorflow:Using temporary folder as model directory: /var/folders/xm/rvswt1sx4rdf56_wpqz5rt4c0000gn/T/tmpo46v2pmg\n",
      "INFO:tensorflow:Using config: {'_model_dir': '/var/folders/xm/rvswt1sx4rdf56_wpqz5rt4c0000gn/T/tmpo46v2pmg', '_tf_random_seed': None, '_save_summary_steps': 100, '_save_checkpoints_steps': None, '_save_checkpoints_secs': 600, '_session_config': allow_soft_placement: true\n",
      "graph_options {\n",
      "  rewrite_options {\n",
      "    meta_optimizer_iterations: ONE\n",
      "  }\n",
      "}\n",
      ", '_keep_checkpoint_max': 5, '_keep_checkpoint_every_n_hours': 10000, '_log_step_count_steps': 100, '_train_distribute': None, '_device_fn': None, '_protocol': None, '_eval_distribute': None, '_experimental_distribute': None, '_experimental_max_worker_delay_secs': None, '_session_creation_timeout_secs': 7200, '_service': None, '_cluster_spec': <tensorflow.python.training.server_lib.ClusterSpec object at 0x140a7cf10>, '_task_type': 'worker', '_task_id': 0, '_global_id_in_cluster': 0, '_master': '', '_evaluation_master': '', '_is_chief': True, '_num_ps_replicas': 0, '_num_worker_replicas': 1}\n"
     ]
    }
   ],
   "source": [
    "estimator = tf.estimator.LinearRegressor(feature_columns=feature_columns)"
   ]
  },
  {
   "cell_type": "code",
   "execution_count": 74,
   "metadata": {},
   "outputs": [
    {
     "name": "stdout",
     "output_type": "stream",
     "text": [
      "INFO:tensorflow:Calling model_fn.\n",
      "WARNING:tensorflow:Layer linear/linear_model is casting an input tensor from dtype float64 to the layer's dtype of float32, which is new behavior in TensorFlow 2.  The layer has dtype float32 because it's dtype defaults to floatx.\n",
      "\n",
      "If you intended to run this layer in float32, you can safely ignore this warning. If in doubt, this warning is likely only an issue if you are porting a TensorFlow 1.X model to TensorFlow 2.\n",
      "\n",
      "To change all layers to have dtype float64 by default, call `tf.keras.backend.set_floatx('float64')`. To change just this layer, pass dtype='float64' to the layer constructor. If you are the author of this layer, you can disable autocasting by passing autocast=False to the base Layer constructor.\n",
      "\n",
      "INFO:tensorflow:Done calling model_fn.\n",
      "INFO:tensorflow:Create CheckpointSaverHook.\n",
      "INFO:tensorflow:Graph was finalized.\n",
      "INFO:tensorflow:Running local_init_op.\n",
      "INFO:tensorflow:Done running local_init_op.\n",
      "INFO:tensorflow:Saving checkpoints for 0 into /var/folders/xm/rvswt1sx4rdf56_wpqz5rt4c0000gn/T/tmpo46v2pmg/model.ckpt.\n",
      "INFO:tensorflow:loss = 199.0523, step = 0\n",
      "INFO:tensorflow:global_step/sec: 277.096\n",
      "INFO:tensorflow:loss = 64.269936, step = 100 (0.361 sec)\n",
      "INFO:tensorflow:global_step/sec: 1005.85\n",
      "INFO:tensorflow:loss = 120.734474, step = 200 (0.099 sec)\n",
      "INFO:tensorflow:global_step/sec: 977.949\n",
      "INFO:tensorflow:loss = 80.863815, step = 300 (0.102 sec)\n",
      "INFO:tensorflow:global_step/sec: 996.75\n",
      "INFO:tensorflow:loss = 99.13804, step = 400 (0.100 sec)\n",
      "INFO:tensorflow:global_step/sec: 656.501\n",
      "INFO:tensorflow:loss = 65.56328, step = 500 (0.153 sec)\n",
      "INFO:tensorflow:global_step/sec: 776.353\n",
      "INFO:tensorflow:loss = 156.76927, step = 600 (0.128 sec)\n",
      "INFO:tensorflow:global_step/sec: 920.557\n",
      "INFO:tensorflow:loss = 189.44888, step = 700 (0.109 sec)\n",
      "INFO:tensorflow:global_step/sec: 922.101\n",
      "INFO:tensorflow:loss = 211.4107, step = 800 (0.108 sec)\n",
      "INFO:tensorflow:global_step/sec: 984.243\n",
      "INFO:tensorflow:loss = 110.425766, step = 900 (0.102 sec)\n",
      "INFO:tensorflow:global_step/sec: 958.965\n",
      "INFO:tensorflow:loss = 128.72311, step = 1000 (0.104 sec)\n",
      "INFO:tensorflow:global_step/sec: 947.043\n",
      "INFO:tensorflow:loss = 90.19084, step = 1100 (0.106 sec)\n",
      "INFO:tensorflow:global_step/sec: 915.347\n",
      "INFO:tensorflow:loss = 64.916405, step = 1200 (0.109 sec)\n",
      "INFO:tensorflow:global_step/sec: 915.667\n",
      "INFO:tensorflow:loss = 74.129654, step = 1300 (0.110 sec)\n",
      "INFO:tensorflow:global_step/sec: 592.08\n",
      "INFO:tensorflow:loss = 75.06183, step = 1400 (0.168 sec)\n",
      "INFO:tensorflow:global_step/sec: 310.29\n",
      "INFO:tensorflow:loss = 123.03281, step = 1500 (0.322 sec)\n",
      "INFO:tensorflow:global_step/sec: 1045.05\n",
      "INFO:tensorflow:loss = 42.75817, step = 1600 (0.096 sec)\n",
      "INFO:tensorflow:global_step/sec: 1028.91\n",
      "INFO:tensorflow:loss = 84.52599, step = 1700 (0.097 sec)\n",
      "INFO:tensorflow:global_step/sec: 975.288\n",
      "INFO:tensorflow:loss = 74.85985, step = 1800 (0.103 sec)\n",
      "INFO:tensorflow:global_step/sec: 961.344\n",
      "INFO:tensorflow:loss = 120.67756, step = 1900 (0.104 sec)\n",
      "INFO:tensorflow:global_step/sec: 949.056\n",
      "INFO:tensorflow:loss = 49.338707, step = 2000 (0.105 sec)\n",
      "INFO:tensorflow:global_step/sec: 685.701\n",
      "INFO:tensorflow:loss = 80.36738, step = 2100 (0.146 sec)\n",
      "INFO:tensorflow:global_step/sec: 820.647\n",
      "INFO:tensorflow:loss = 34.13098, step = 2200 (0.122 sec)\n",
      "INFO:tensorflow:global_step/sec: 963.01\n",
      "INFO:tensorflow:loss = 153.64725, step = 2300 (0.104 sec)\n",
      "INFO:tensorflow:global_step/sec: 985.33\n",
      "INFO:tensorflow:loss = 66.343346, step = 2400 (0.101 sec)\n",
      "INFO:tensorflow:global_step/sec: 947.005\n",
      "INFO:tensorflow:loss = 82.130554, step = 2500 (0.106 sec)\n",
      "INFO:tensorflow:global_step/sec: 931.186\n",
      "INFO:tensorflow:loss = 104.58715, step = 2600 (0.107 sec)\n",
      "INFO:tensorflow:global_step/sec: 959.591\n",
      "INFO:tensorflow:loss = 83.47916, step = 2700 (0.104 sec)\n",
      "INFO:tensorflow:global_step/sec: 934.083\n",
      "INFO:tensorflow:loss = 132.98065, step = 2800 (0.107 sec)\n",
      "INFO:tensorflow:global_step/sec: 293.681\n",
      "INFO:tensorflow:loss = 67.997955, step = 2900 (0.340 sec)\n",
      "INFO:tensorflow:global_step/sec: 980.97\n",
      "INFO:tensorflow:loss = 68.411026, step = 3000 (0.102 sec)\n",
      "INFO:tensorflow:global_step/sec: 985.494\n",
      "INFO:tensorflow:loss = 86.85266, step = 3100 (0.102 sec)\n",
      "INFO:tensorflow:global_step/sec: 990.842\n",
      "INFO:tensorflow:loss = 32.80027, step = 3200 (0.101 sec)\n",
      "INFO:tensorflow:global_step/sec: 888.424\n",
      "INFO:tensorflow:loss = 64.002884, step = 3300 (0.113 sec)\n",
      "INFO:tensorflow:global_step/sec: 929.688\n",
      "INFO:tensorflow:loss = 300.9989, step = 3400 (0.108 sec)\n",
      "INFO:tensorflow:global_step/sec: 946.439\n",
      "INFO:tensorflow:loss = 63.31569, step = 3500 (0.106 sec)\n",
      "INFO:tensorflow:global_step/sec: 935.99\n",
      "INFO:tensorflow:loss = 35.517776, step = 3600 (0.107 sec)\n",
      "INFO:tensorflow:global_step/sec: 989.218\n",
      "INFO:tensorflow:loss = 50.049416, step = 3700 (0.101 sec)\n",
      "INFO:tensorflow:global_step/sec: 681.885\n",
      "INFO:tensorflow:loss = 98.75451, step = 3800 (0.147 sec)\n",
      "INFO:tensorflow:global_step/sec: 812.044\n",
      "INFO:tensorflow:loss = 87.74498, step = 3900 (0.123 sec)\n",
      "INFO:tensorflow:global_step/sec: 952.727\n",
      "INFO:tensorflow:loss = 121.63811, step = 4000 (0.105 sec)\n",
      "INFO:tensorflow:global_step/sec: 917.682\n",
      "INFO:tensorflow:loss = 34.94896, step = 4100 (0.109 sec)\n",
      "INFO:tensorflow:global_step/sec: 946.648\n",
      "INFO:tensorflow:loss = 109.096634, step = 4200 (0.106 sec)\n",
      "INFO:tensorflow:global_step/sec: 307.574\n",
      "INFO:tensorflow:loss = 138.9505, step = 4300 (0.325 sec)\n",
      "INFO:tensorflow:global_step/sec: 997.815\n",
      "INFO:tensorflow:loss = 148.26526, step = 4400 (0.100 sec)\n",
      "INFO:tensorflow:global_step/sec: 994.531\n",
      "INFO:tensorflow:loss = 121.059204, step = 4500 (0.100 sec)\n",
      "INFO:tensorflow:global_step/sec: 996.918\n",
      "INFO:tensorflow:loss = 52.69585, step = 4600 (0.100 sec)\n",
      "INFO:tensorflow:global_step/sec: 903.024\n",
      "INFO:tensorflow:loss = 47.53544, step = 4700 (0.111 sec)\n",
      "INFO:tensorflow:global_step/sec: 944.644\n",
      "INFO:tensorflow:loss = 48.94945, step = 4800 (0.106 sec)\n",
      "INFO:tensorflow:global_step/sec: 985.33\n",
      "INFO:tensorflow:loss = 170.44893, step = 4900 (0.101 sec)\n",
      "INFO:tensorflow:global_step/sec: 1000.62\n",
      "INFO:tensorflow:loss = 81.07027, step = 5000 (0.100 sec)\n",
      "INFO:tensorflow:global_step/sec: 995.65\n",
      "INFO:tensorflow:loss = 52.830723, step = 5100 (0.100 sec)\n",
      "INFO:tensorflow:global_step/sec: 996.61\n",
      "INFO:tensorflow:loss = 53.15444, step = 5200 (0.100 sec)\n",
      "INFO:tensorflow:global_step/sec: 868.728\n",
      "INFO:tensorflow:loss = 45.13335, step = 5300 (0.116 sec)\n",
      "INFO:tensorflow:global_step/sec: 722.455\n",
      "INFO:tensorflow:loss = 142.05115, step = 5400 (0.138 sec)\n",
      "INFO:tensorflow:global_step/sec: 901.981\n",
      "INFO:tensorflow:loss = 88.37834, step = 5500 (0.111 sec)\n",
      "INFO:tensorflow:global_step/sec: 885.435\n",
      "INFO:tensorflow:loss = 88.10015, step = 5600 (0.113 sec)\n",
      "INFO:tensorflow:global_step/sec: 297.236\n",
      "INFO:tensorflow:loss = 33.375042, step = 5700 (0.336 sec)\n",
      "INFO:tensorflow:global_step/sec: 967.482\n",
      "INFO:tensorflow:loss = 60.662827, step = 5800 (0.103 sec)\n",
      "INFO:tensorflow:global_step/sec: 970.627\n",
      "INFO:tensorflow:loss = 73.426895, step = 5900 (0.103 sec)\n",
      "INFO:tensorflow:global_step/sec: 901.454\n",
      "INFO:tensorflow:loss = 45.55102, step = 6000 (0.111 sec)\n",
      "INFO:tensorflow:global_step/sec: 679.5\n",
      "INFO:tensorflow:loss = 76.04233, step = 6100 (0.147 sec)\n",
      "INFO:tensorflow:global_step/sec: 814.12\n",
      "INFO:tensorflow:loss = 60.04494, step = 6200 (0.123 sec)\n",
      "INFO:tensorflow:global_step/sec: 806.803\n",
      "INFO:tensorflow:loss = 48.814762, step = 6300 (0.124 sec)\n",
      "INFO:tensorflow:global_step/sec: 844.386\n",
      "INFO:tensorflow:loss = 136.24258, step = 6400 (0.118 sec)\n",
      "INFO:tensorflow:global_step/sec: 803.582\n",
      "INFO:tensorflow:loss = 101.14255, step = 6500 (0.124 sec)\n",
      "INFO:tensorflow:global_step/sec: 805.568\n",
      "INFO:tensorflow:loss = 92.3993, step = 6600 (0.124 sec)\n",
      "INFO:tensorflow:global_step/sec: 796.704\n",
      "INFO:tensorflow:loss = 73.71687, step = 6700 (0.125 sec)\n",
      "INFO:tensorflow:global_step/sec: 732.086\n",
      "INFO:tensorflow:loss = 58.822155, step = 6800 (0.137 sec)\n",
      "INFO:tensorflow:global_step/sec: 739.634\n",
      "INFO:tensorflow:loss = 45.131737, step = 6900 (0.135 sec)\n",
      "INFO:tensorflow:global_step/sec: 829.552\n",
      "INFO:tensorflow:loss = 95.67218, step = 7000 (0.121 sec)\n",
      "INFO:tensorflow:Saving checkpoints for 7035 into /var/folders/xm/rvswt1sx4rdf56_wpqz5rt4c0000gn/T/tmpo46v2pmg/model.ckpt.\n",
      "INFO:tensorflow:Loss for final step: 43.332893.\n"
     ]
    },
    {
     "data": {
      "text/plain": [
       "<tensorflow_estimator.python.estimator.canned.linear.LinearRegressorV2 at 0x140a7cb90>"
      ]
     },
     "execution_count": 74,
     "metadata": {},
     "output_type": "execute_result"
    }
   ],
   "source": [
    "estimator.train(input_fn=train_fn, steps=None)"
   ]
  },
  {
   "cell_type": "code",
   "execution_count": 75,
   "metadata": {},
   "outputs": [
    {
     "name": "stdout",
     "output_type": "stream",
     "text": [
      "INFO:tensorflow:Calling model_fn.\n",
      "WARNING:tensorflow:Layer linear/linear_model is casting an input tensor from dtype float64 to the layer's dtype of float32, which is new behavior in TensorFlow 2.  The layer has dtype float32 because it's dtype defaults to floatx.\n",
      "\n",
      "If you intended to run this layer in float32, you can safely ignore this warning. If in doubt, this warning is likely only an issue if you are porting a TensorFlow 1.X model to TensorFlow 2.\n",
      "\n",
      "To change all layers to have dtype float64 by default, call `tf.keras.backend.set_floatx('float64')`. To change just this layer, pass dtype='float64' to the layer constructor. If you are the author of this layer, you can disable autocasting by passing autocast=False to the base Layer constructor.\n",
      "\n",
      "INFO:tensorflow:Done calling model_fn.\n",
      "INFO:tensorflow:Starting evaluation at 2019-10-17T12:14:02Z\n",
      "INFO:tensorflow:Graph was finalized.\n",
      "INFO:tensorflow:Restoring parameters from /var/folders/xm/rvswt1sx4rdf56_wpqz5rt4c0000gn/T/tmpo46v2pmg/model.ckpt-7035\n",
      "INFO:tensorflow:Running local_init_op.\n",
      "INFO:tensorflow:Done running local_init_op.\n",
      "INFO:tensorflow:Finished evaluation at 2019-10-17-12:14:10\n",
      "INFO:tensorflow:Saving dict for global step 7035: average_loss = 93.1997, global_step = 7035, label/mean = 11.346204, loss = 93.185974, prediction/mean = 11.305163\n",
      "INFO:tensorflow:Saving 'checkpoint_path' summary for global step 7035: /var/folders/xm/rvswt1sx4rdf56_wpqz5rt4c0000gn/T/tmpo46v2pmg/model.ckpt-7035\n",
      "{'average_loss': 93.1997, 'label/mean': 11.346204, 'loss': 93.185974, 'prediction/mean': 11.305163, 'global_step': 7035}\n"
     ]
    }
   ],
   "source": [
    "print(estimator.evaluate(train_fn))"
   ]
  },
  {
   "cell_type": "code",
   "execution_count": 76,
   "metadata": {},
   "outputs": [
    {
     "name": "stdout",
     "output_type": "stream",
     "text": [
      "INFO:tensorflow:Calling model_fn.\n",
      "WARNING:tensorflow:Layer linear/linear_model is casting an input tensor from dtype float64 to the layer's dtype of float32, which is new behavior in TensorFlow 2.  The layer has dtype float32 because it's dtype defaults to floatx.\n",
      "\n",
      "If you intended to run this layer in float32, you can safely ignore this warning. If in doubt, this warning is likely only an issue if you are porting a TensorFlow 1.X model to TensorFlow 2.\n",
      "\n",
      "To change all layers to have dtype float64 by default, call `tf.keras.backend.set_floatx('float64')`. To change just this layer, pass dtype='float64' to the layer constructor. If you are the author of this layer, you can disable autocasting by passing autocast=False to the base Layer constructor.\n",
      "\n",
      "INFO:tensorflow:Done calling model_fn.\n",
      "INFO:tensorflow:Starting evaluation at 2019-10-17T12:14:11Z\n",
      "INFO:tensorflow:Graph was finalized.\n",
      "INFO:tensorflow:Restoring parameters from /var/folders/xm/rvswt1sx4rdf56_wpqz5rt4c0000gn/T/tmpo46v2pmg/model.ckpt-7035\n",
      "INFO:tensorflow:Running local_init_op.\n",
      "INFO:tensorflow:Done running local_init_op.\n",
      "INFO:tensorflow:Finished evaluation at 2019-10-17-12:14:12\n",
      "INFO:tensorflow:Saving dict for global step 7035: average_loss = 105.02929, global_step = 7035, label/mean = 11.430718, loss = 106.02284, prediction/mean = 11.316622\n",
      "INFO:tensorflow:Saving 'checkpoint_path' summary for global step 7035: /var/folders/xm/rvswt1sx4rdf56_wpqz5rt4c0000gn/T/tmpo46v2pmg/model.ckpt-7035\n",
      "{'average_loss': 105.02929, 'label/mean': 11.430718, 'loss': 106.02284, 'prediction/mean': 11.316622, 'global_step': 7035}\n"
     ]
    }
   ],
   "source": [
    "print(estimator.evaluate(eval_fn))"
   ]
  },
  {
   "cell_type": "markdown",
   "metadata": {},
   "source": [
    "### Make a Dense Neural Network"
   ]
  },
  {
   "cell_type": "code",
   "execution_count": 77,
   "metadata": {},
   "outputs": [
    {
     "name": "stdout",
     "output_type": "stream",
     "text": [
      "INFO:tensorflow:Using default config.\n",
      "WARNING:tensorflow:Using temporary folder as model directory: /var/folders/xm/rvswt1sx4rdf56_wpqz5rt4c0000gn/T/tmpb0wh9sqz\n",
      "INFO:tensorflow:Using config: {'_model_dir': '/var/folders/xm/rvswt1sx4rdf56_wpqz5rt4c0000gn/T/tmpb0wh9sqz', '_tf_random_seed': None, '_save_summary_steps': 100, '_save_checkpoints_steps': None, '_save_checkpoints_secs': 600, '_session_config': allow_soft_placement: true\n",
      "graph_options {\n",
      "  rewrite_options {\n",
      "    meta_optimizer_iterations: ONE\n",
      "  }\n",
      "}\n",
      ", '_keep_checkpoint_max': 5, '_keep_checkpoint_every_n_hours': 10000, '_log_step_count_steps': 100, '_train_distribute': None, '_device_fn': None, '_protocol': None, '_eval_distribute': None, '_experimental_distribute': None, '_experimental_max_worker_delay_secs': None, '_session_creation_timeout_secs': 7200, '_service': None, '_cluster_spec': <tensorflow.python.training.server_lib.ClusterSpec object at 0x1424d7810>, '_task_type': 'worker', '_task_id': 0, '_global_id_in_cluster': 0, '_master': '', '_evaluation_master': '', '_is_chief': True, '_num_ps_replicas': 0, '_num_worker_replicas': 1}\n"
     ]
    }
   ],
   "source": [
    "dense = tf.estimator.DNNRegressor(feature_columns=dense_columns, hidden_units=[60, 60])"
   ]
  },
  {
   "cell_type": "code",
   "execution_count": 78,
   "metadata": {},
   "outputs": [
    {
     "name": "stdout",
     "output_type": "stream",
     "text": [
      "INFO:tensorflow:Calling model_fn.\n",
      "WARNING:tensorflow:Layer dnn is casting an input tensor from dtype float64 to the layer's dtype of float32, which is new behavior in TensorFlow 2.  The layer has dtype float32 because it's dtype defaults to floatx.\n",
      "\n",
      "If you intended to run this layer in float32, you can safely ignore this warning. If in doubt, this warning is likely only an issue if you are porting a TensorFlow 1.X model to TensorFlow 2.\n",
      "\n",
      "To change all layers to have dtype float64 by default, call `tf.keras.backend.set_floatx('float64')`. To change just this layer, pass dtype='float64' to the layer constructor. If you are the author of this layer, you can disable autocasting by passing autocast=False to the base Layer constructor.\n",
      "\n",
      "INFO:tensorflow:Done calling model_fn.\n",
      "INFO:tensorflow:Create CheckpointSaverHook.\n",
      "INFO:tensorflow:Graph was finalized.\n",
      "INFO:tensorflow:Running local_init_op.\n",
      "INFO:tensorflow:Done running local_init_op.\n",
      "INFO:tensorflow:Saving checkpoints for 0 into /var/folders/xm/rvswt1sx4rdf56_wpqz5rt4c0000gn/T/tmpb0wh9sqz/model.ckpt.\n",
      "INFO:tensorflow:loss = 559.3224, step = 0\n",
      "INFO:tensorflow:global_step/sec: 150.476\n",
      "INFO:tensorflow:loss = 172.37875, step = 100 (0.665 sec)\n",
      "INFO:tensorflow:global_step/sec: 351.207\n",
      "INFO:tensorflow:loss = 70.04055, step = 200 (0.285 sec)\n",
      "INFO:tensorflow:global_step/sec: 350.774\n",
      "INFO:tensorflow:loss = 123.19641, step = 300 (0.285 sec)\n",
      "INFO:tensorflow:global_step/sec: 300.565\n",
      "INFO:tensorflow:loss = 370.74127, step = 400 (0.334 sec)\n",
      "INFO:tensorflow:global_step/sec: 345.088\n",
      "INFO:tensorflow:loss = 121.99792, step = 500 (0.289 sec)\n",
      "INFO:tensorflow:global_step/sec: 296.222\n",
      "INFO:tensorflow:loss = 144.00748, step = 600 (0.337 sec)\n",
      "INFO:tensorflow:global_step/sec: 283.151\n",
      "INFO:tensorflow:loss = 30.162039, step = 700 (0.354 sec)\n",
      "INFO:tensorflow:global_step/sec: 281.116\n",
      "INFO:tensorflow:loss = 74.85853, step = 800 (0.356 sec)\n",
      "INFO:tensorflow:global_step/sec: 287.809\n",
      "INFO:tensorflow:loss = 59.24036, step = 900 (0.347 sec)\n",
      "INFO:tensorflow:global_step/sec: 319.737\n",
      "INFO:tensorflow:loss = 119.939514, step = 1000 (0.313 sec)\n",
      "INFO:tensorflow:global_step/sec: 257.243\n",
      "INFO:tensorflow:loss = 228.69754, step = 1100 (0.388 sec)\n",
      "INFO:tensorflow:global_step/sec: 286.034\n",
      "INFO:tensorflow:loss = 45.338226, step = 1200 (0.349 sec)\n",
      "INFO:tensorflow:global_step/sec: 260.019\n",
      "INFO:tensorflow:loss = 239.6961, step = 1300 (0.385 sec)\n",
      "INFO:tensorflow:global_step/sec: 280.217\n",
      "INFO:tensorflow:loss = 141.46501, step = 1400 (0.356 sec)\n",
      "INFO:tensorflow:global_step/sec: 165.901\n",
      "INFO:tensorflow:loss = 54.160564, step = 1500 (0.603 sec)\n",
      "INFO:tensorflow:global_step/sec: 286.19\n",
      "INFO:tensorflow:loss = 38.084995, step = 1600 (0.350 sec)\n",
      "INFO:tensorflow:global_step/sec: 326.693\n",
      "INFO:tensorflow:loss = 107.72008, step = 1700 (0.306 sec)\n",
      "INFO:tensorflow:global_step/sec: 336.885\n",
      "INFO:tensorflow:loss = 39.252567, step = 1800 (0.298 sec)\n",
      "INFO:tensorflow:global_step/sec: 303.95\n",
      "INFO:tensorflow:loss = 43.149048, step = 1900 (0.328 sec)\n",
      "INFO:tensorflow:global_step/sec: 361.651\n",
      "INFO:tensorflow:loss = 26.662716, step = 2000 (0.277 sec)\n",
      "INFO:tensorflow:global_step/sec: 334.33\n",
      "INFO:tensorflow:loss = 83.2418, step = 2100 (0.299 sec)\n",
      "INFO:tensorflow:global_step/sec: 314.288\n",
      "INFO:tensorflow:loss = 69.7038, step = 2200 (0.318 sec)\n",
      "INFO:tensorflow:global_step/sec: 326.999\n",
      "INFO:tensorflow:loss = 59.055313, step = 2300 (0.306 sec)\n",
      "INFO:tensorflow:global_step/sec: 326.427\n",
      "INFO:tensorflow:loss = 50.3888, step = 2400 (0.306 sec)\n",
      "INFO:tensorflow:global_step/sec: 284.728\n",
      "INFO:tensorflow:loss = 35.422752, step = 2500 (0.351 sec)\n",
      "INFO:tensorflow:global_step/sec: 298.895\n",
      "INFO:tensorflow:loss = 90.62111, step = 2600 (0.335 sec)\n",
      "INFO:tensorflow:global_step/sec: 277.797\n",
      "INFO:tensorflow:loss = 91.353355, step = 2700 (0.360 sec)\n",
      "INFO:tensorflow:global_step/sec: 257.937\n",
      "INFO:tensorflow:loss = 80.82688, step = 2800 (0.387 sec)\n",
      "INFO:tensorflow:global_step/sec: 159.344\n",
      "INFO:tensorflow:loss = 111.749115, step = 2900 (0.627 sec)\n",
      "INFO:tensorflow:global_step/sec: 288.196\n",
      "INFO:tensorflow:loss = 65.58645, step = 3000 (0.347 sec)\n",
      "INFO:tensorflow:global_step/sec: 324.438\n",
      "INFO:tensorflow:loss = 123.22178, step = 3100 (0.308 sec)\n",
      "INFO:tensorflow:global_step/sec: 324.606\n",
      "INFO:tensorflow:loss = 94.06375, step = 3200 (0.309 sec)\n",
      "INFO:tensorflow:global_step/sec: 292.385\n",
      "INFO:tensorflow:loss = 36.844234, step = 3300 (0.342 sec)\n",
      "INFO:tensorflow:global_step/sec: 330.647\n",
      "INFO:tensorflow:loss = 82.30538, step = 3400 (0.302 sec)\n",
      "INFO:tensorflow:global_step/sec: 332.478\n",
      "INFO:tensorflow:loss = 59.947083, step = 3500 (0.301 sec)\n",
      "INFO:tensorflow:global_step/sec: 309.671\n",
      "INFO:tensorflow:loss = 90.36316, step = 3600 (0.323 sec)\n",
      "INFO:tensorflow:global_step/sec: 307.412\n",
      "INFO:tensorflow:loss = 31.866074, step = 3700 (0.326 sec)\n",
      "INFO:tensorflow:global_step/sec: 321.489\n",
      "INFO:tensorflow:loss = 38.168, step = 3800 (0.311 sec)\n",
      "INFO:tensorflow:global_step/sec: 298.809\n",
      "INFO:tensorflow:loss = 108.85075, step = 3900 (0.335 sec)\n",
      "INFO:tensorflow:global_step/sec: 290.332\n",
      "INFO:tensorflow:loss = 50.459816, step = 4000 (0.344 sec)\n",
      "INFO:tensorflow:global_step/sec: 315.249\n",
      "INFO:tensorflow:loss = 33.88234, step = 4100 (0.317 sec)\n",
      "INFO:tensorflow:global_step/sec: 300.546\n",
      "INFO:tensorflow:loss = 59.142002, step = 4200 (0.333 sec)\n",
      "INFO:tensorflow:global_step/sec: 165.839\n",
      "INFO:tensorflow:loss = 44.73829, step = 4300 (0.603 sec)\n",
      "INFO:tensorflow:global_step/sec: 286.924\n",
      "INFO:tensorflow:loss = 64.24533, step = 4400 (0.349 sec)\n",
      "INFO:tensorflow:global_step/sec: 291.644\n",
      "INFO:tensorflow:loss = 116.95735, step = 4500 (0.342 sec)\n",
      "INFO:tensorflow:global_step/sec: 333.308\n",
      "INFO:tensorflow:loss = 35.0695, step = 4600 (0.300 sec)\n",
      "INFO:tensorflow:global_step/sec: 322.816\n",
      "INFO:tensorflow:loss = 54.77162, step = 4700 (0.310 sec)\n",
      "INFO:tensorflow:global_step/sec: 331.223\n",
      "INFO:tensorflow:loss = 63.921642, step = 4800 (0.302 sec)\n",
      "INFO:tensorflow:global_step/sec: 345.191\n",
      "INFO:tensorflow:loss = 97.323326, step = 4900 (0.290 sec)\n",
      "INFO:tensorflow:global_step/sec: 353.251\n",
      "INFO:tensorflow:loss = 26.834599, step = 5000 (0.283 sec)\n",
      "INFO:tensorflow:global_step/sec: 335.142\n",
      "INFO:tensorflow:loss = 60.359367, step = 5100 (0.299 sec)\n",
      "INFO:tensorflow:global_step/sec: 292.447\n",
      "INFO:tensorflow:loss = 95.10741, step = 5200 (0.342 sec)\n",
      "INFO:tensorflow:global_step/sec: 331.104\n",
      "INFO:tensorflow:loss = 44.00049, step = 5300 (0.302 sec)\n",
      "INFO:tensorflow:global_step/sec: 314.151\n",
      "INFO:tensorflow:loss = 26.273136, step = 5400 (0.318 sec)\n",
      "INFO:tensorflow:global_step/sec: 316.722\n",
      "INFO:tensorflow:loss = 50.098392, step = 5500 (0.316 sec)\n",
      "INFO:tensorflow:global_step/sec: 320.5\n",
      "INFO:tensorflow:loss = 57.134228, step = 5600 (0.312 sec)\n",
      "INFO:tensorflow:global_step/sec: 175.569\n",
      "INFO:tensorflow:loss = 54.32196, step = 5700 (0.570 sec)\n",
      "INFO:tensorflow:global_step/sec: 335.89\n",
      "INFO:tensorflow:loss = 57.145927, step = 5800 (0.298 sec)\n",
      "INFO:tensorflow:global_step/sec: 329.114\n",
      "INFO:tensorflow:loss = 57.6978, step = 5900 (0.304 sec)\n",
      "INFO:tensorflow:global_step/sec: 328.834\n",
      "INFO:tensorflow:loss = 93.41756, step = 6000 (0.304 sec)\n",
      "INFO:tensorflow:global_step/sec: 364.275\n",
      "INFO:tensorflow:loss = 29.803623, step = 6100 (0.274 sec)\n",
      "INFO:tensorflow:global_step/sec: 370.401\n",
      "INFO:tensorflow:loss = 26.54422, step = 6200 (0.270 sec)\n",
      "INFO:tensorflow:global_step/sec: 348.699\n",
      "INFO:tensorflow:loss = 39.77018, step = 6300 (0.286 sec)\n",
      "INFO:tensorflow:global_step/sec: 333.996\n",
      "INFO:tensorflow:loss = 60.141, step = 6400 (0.299 sec)\n",
      "INFO:tensorflow:global_step/sec: 346.39\n",
      "INFO:tensorflow:loss = 121.385574, step = 6500 (0.289 sec)\n",
      "INFO:tensorflow:global_step/sec: 368.922\n",
      "INFO:tensorflow:loss = 24.213413, step = 6600 (0.271 sec)\n",
      "INFO:tensorflow:global_step/sec: 311.211\n",
      "INFO:tensorflow:loss = 74.01782, step = 6700 (0.321 sec)\n",
      "INFO:tensorflow:global_step/sec: 337.22\n",
      "INFO:tensorflow:loss = 21.953293, step = 6800 (0.296 sec)\n",
      "INFO:tensorflow:global_step/sec: 330.138\n",
      "INFO:tensorflow:loss = 65.38484, step = 6900 (0.303 sec)\n",
      "INFO:tensorflow:global_step/sec: 308.561\n",
      "INFO:tensorflow:loss = 51.340668, step = 7000 (0.324 sec)\n",
      "INFO:tensorflow:Saving checkpoints for 7035 into /var/folders/xm/rvswt1sx4rdf56_wpqz5rt4c0000gn/T/tmpb0wh9sqz/model.ckpt.\n",
      "INFO:tensorflow:Loss for final step: 14.065969.\n"
     ]
    },
    {
     "data": {
      "text/plain": [
       "<tensorflow_estimator.python.estimator.canned.dnn.DNNRegressorV2 at 0x140417490>"
      ]
     },
     "execution_count": 78,
     "metadata": {},
     "output_type": "execute_result"
    }
   ],
   "source": [
    "dense.train(input_fn=train_fn, steps=None)"
   ]
  },
  {
   "cell_type": "code",
   "execution_count": 79,
   "metadata": {},
   "outputs": [
    {
     "name": "stdout",
     "output_type": "stream",
     "text": [
      "INFO:tensorflow:Calling model_fn.\n",
      "WARNING:tensorflow:Layer dnn is casting an input tensor from dtype float64 to the layer's dtype of float32, which is new behavior in TensorFlow 2.  The layer has dtype float32 because it's dtype defaults to floatx.\n",
      "\n",
      "If you intended to run this layer in float32, you can safely ignore this warning. If in doubt, this warning is likely only an issue if you are porting a TensorFlow 1.X model to TensorFlow 2.\n",
      "\n",
      "To change all layers to have dtype float64 by default, call `tf.keras.backend.set_floatx('float64')`. To change just this layer, pass dtype='float64' to the layer constructor. If you are the author of this layer, you can disable autocasting by passing autocast=False to the base Layer constructor.\n",
      "\n",
      "INFO:tensorflow:Done calling model_fn.\n",
      "INFO:tensorflow:Starting evaluation at 2019-10-17T12:14:56Z\n",
      "INFO:tensorflow:Graph was finalized.\n",
      "INFO:tensorflow:Restoring parameters from /var/folders/xm/rvswt1sx4rdf56_wpqz5rt4c0000gn/T/tmpb0wh9sqz/model.ckpt-7035\n",
      "INFO:tensorflow:Running local_init_op.\n",
      "INFO:tensorflow:Done running local_init_op.\n",
      "INFO:tensorflow:Finished evaluation at 2019-10-17-12:15:11\n",
      "INFO:tensorflow:Saving dict for global step 7035: average_loss = 52.503544, global_step = 7035, label/mean = 11.34619, loss = 52.497646, prediction/mean = 11.420673\n",
      "INFO:tensorflow:Saving 'checkpoint_path' summary for global step 7035: /var/folders/xm/rvswt1sx4rdf56_wpqz5rt4c0000gn/T/tmpb0wh9sqz/model.ckpt-7035\n",
      "{'average_loss': 52.503544, 'label/mean': 11.34619, 'loss': 52.497646, 'prediction/mean': 11.420673, 'global_step': 7035}\n"
     ]
    }
   ],
   "source": [
    "print(dense.evaluate(train_fn))"
   ]
  },
  {
   "cell_type": "code",
   "execution_count": 80,
   "metadata": {},
   "outputs": [
    {
     "name": "stdout",
     "output_type": "stream",
     "text": [
      "INFO:tensorflow:Calling model_fn.\n",
      "WARNING:tensorflow:Layer dnn is casting an input tensor from dtype float64 to the layer's dtype of float32, which is new behavior in TensorFlow 2.  The layer has dtype float32 because it's dtype defaults to floatx.\n",
      "\n",
      "If you intended to run this layer in float32, you can safely ignore this warning. If in doubt, this warning is likely only an issue if you are porting a TensorFlow 1.X model to TensorFlow 2.\n",
      "\n",
      "To change all layers to have dtype float64 by default, call `tf.keras.backend.set_floatx('float64')`. To change just this layer, pass dtype='float64' to the layer constructor. If you are the author of this layer, you can disable autocasting by passing autocast=False to the base Layer constructor.\n",
      "\n",
      "INFO:tensorflow:Done calling model_fn.\n",
      "INFO:tensorflow:Starting evaluation at 2019-10-17T12:15:12Z\n",
      "INFO:tensorflow:Graph was finalized.\n",
      "INFO:tensorflow:Restoring parameters from /var/folders/xm/rvswt1sx4rdf56_wpqz5rt4c0000gn/T/tmpb0wh9sqz/model.ckpt-7035\n",
      "INFO:tensorflow:Running local_init_op.\n",
      "INFO:tensorflow:Done running local_init_op.\n",
      "INFO:tensorflow:Finished evaluation at 2019-10-17-12:15:13\n",
      "INFO:tensorflow:Saving dict for global step 7035: average_loss = 62.44358, global_step = 7035, label/mean = 11.430718, loss = 62.606327, prediction/mean = 11.45084\n",
      "INFO:tensorflow:Saving 'checkpoint_path' summary for global step 7035: /var/folders/xm/rvswt1sx4rdf56_wpqz5rt4c0000gn/T/tmpb0wh9sqz/model.ckpt-7035\n",
      "{'average_loss': 62.44358, 'label/mean': 11.430718, 'loss': 62.606327, 'prediction/mean': 11.45084, 'global_step': 7035}\n"
     ]
    }
   ],
   "source": [
    "print(dense.evaluate(eval_fn))"
   ]
  },
  {
   "cell_type": "markdown",
   "metadata": {},
   "source": [
    "### Linear Combined Regressor"
   ]
  },
  {
   "cell_type": "code",
   "execution_count": 81,
   "metadata": {},
   "outputs": [
    {
     "name": "stdout",
     "output_type": "stream",
     "text": [
      "INFO:tensorflow:Using default config.\n",
      "WARNING:tensorflow:Using temporary folder as model directory: /var/folders/xm/rvswt1sx4rdf56_wpqz5rt4c0000gn/T/tmpxoatyww_\n",
      "INFO:tensorflow:Using config: {'_model_dir': '/var/folders/xm/rvswt1sx4rdf56_wpqz5rt4c0000gn/T/tmpxoatyww_', '_tf_random_seed': None, '_save_summary_steps': 100, '_save_checkpoints_steps': None, '_save_checkpoints_secs': 600, '_session_config': allow_soft_placement: true\n",
      "graph_options {\n",
      "  rewrite_options {\n",
      "    meta_optimizer_iterations: ONE\n",
      "  }\n",
      "}\n",
      ", '_keep_checkpoint_max': 5, '_keep_checkpoint_every_n_hours': 10000, '_log_step_count_steps': 100, '_train_distribute': None, '_device_fn': None, '_protocol': None, '_eval_distribute': None, '_experimental_distribute': None, '_experimental_max_worker_delay_secs': None, '_session_creation_timeout_secs': 7200, '_service': None, '_cluster_spec': <tensorflow.python.training.server_lib.ClusterSpec object at 0x13ef71850>, '_task_type': 'worker', '_task_id': 0, '_global_id_in_cluster': 0, '_master': '', '_evaluation_master': '', '_is_chief': True, '_num_ps_replicas': 0, '_num_worker_replicas': 1}\n"
     ]
    }
   ],
   "source": [
    "combined = tf.estimator.DNNLinearCombinedRegressor(\n",
    "    #Linear Model also called Wide\n",
    "    linear_feature_columns=feature_columns,\n",
    "    \n",
    "    #DNN\n",
    "    dnn_feature_columns=dense_columns,\n",
    "    dnn_hidden_units=[512,512]\n",
    ")"
   ]
  },
  {
   "cell_type": "code",
   "execution_count": 82,
   "metadata": {},
   "outputs": [
    {
     "name": "stdout",
     "output_type": "stream",
     "text": [
      "INFO:tensorflow:Calling model_fn.\n",
      "WARNING:tensorflow:Layer dnn is casting an input tensor from dtype float64 to the layer's dtype of float32, which is new behavior in TensorFlow 2.  The layer has dtype float32 because it's dtype defaults to floatx.\n",
      "\n",
      "If you intended to run this layer in float32, you can safely ignore this warning. If in doubt, this warning is likely only an issue if you are porting a TensorFlow 1.X model to TensorFlow 2.\n",
      "\n",
      "To change all layers to have dtype float64 by default, call `tf.keras.backend.set_floatx('float64')`. To change just this layer, pass dtype='float64' to the layer constructor. If you are the author of this layer, you can disable autocasting by passing autocast=False to the base Layer constructor.\n",
      "\n",
      "WARNING:tensorflow:Layer linear/linear_model is casting an input tensor from dtype float64 to the layer's dtype of float32, which is new behavior in TensorFlow 2.  The layer has dtype float32 because it's dtype defaults to floatx.\n",
      "\n",
      "If you intended to run this layer in float32, you can safely ignore this warning. If in doubt, this warning is likely only an issue if you are porting a TensorFlow 1.X model to TensorFlow 2.\n",
      "\n",
      "To change all layers to have dtype float64 by default, call `tf.keras.backend.set_floatx('float64')`. To change just this layer, pass dtype='float64' to the layer constructor. If you are the author of this layer, you can disable autocasting by passing autocast=False to the base Layer constructor.\n",
      "\n",
      "INFO:tensorflow:Done calling model_fn.\n",
      "INFO:tensorflow:Create CheckpointSaverHook.\n",
      "INFO:tensorflow:Graph was finalized.\n",
      "INFO:tensorflow:Running local_init_op.\n",
      "INFO:tensorflow:Done running local_init_op.\n",
      "INFO:tensorflow:Saving checkpoints for 0 into /var/folders/xm/rvswt1sx4rdf56_wpqz5rt4c0000gn/T/tmpxoatyww_/model.ckpt.\n",
      "INFO:tensorflow:loss = 248.6889, step = 0\n",
      "INFO:tensorflow:global_step/sec: 60.2957\n",
      "INFO:tensorflow:loss = 90.917465, step = 100 (1.660 sec)\n",
      "INFO:tensorflow:global_step/sec: 86.2893\n",
      "INFO:tensorflow:loss = 56.26973, step = 200 (1.158 sec)\n",
      "INFO:tensorflow:global_step/sec: 89.6069\n",
      "INFO:tensorflow:loss = 151.8013, step = 300 (1.116 sec)\n",
      "INFO:tensorflow:global_step/sec: 89.9674\n",
      "INFO:tensorflow:loss = 65.20903, step = 400 (1.111 sec)\n",
      "INFO:tensorflow:global_step/sec: 92.9909\n",
      "INFO:tensorflow:loss = 110.30844, step = 500 (1.075 sec)\n",
      "INFO:tensorflow:global_step/sec: 95.6718\n",
      "INFO:tensorflow:loss = 62.732872, step = 600 (1.046 sec)\n",
      "INFO:tensorflow:global_step/sec: 92.7631\n",
      "INFO:tensorflow:loss = 46.37381, step = 700 (1.078 sec)\n",
      "INFO:tensorflow:global_step/sec: 83.2283\n",
      "INFO:tensorflow:loss = 36.16137, step = 800 (1.202 sec)\n",
      "INFO:tensorflow:global_step/sec: 90.0637\n",
      "INFO:tensorflow:loss = 62.28272, step = 900 (1.111 sec)\n",
      "INFO:tensorflow:global_step/sec: 86.7714\n",
      "INFO:tensorflow:loss = 17.357147, step = 1000 (1.152 sec)\n",
      "INFO:tensorflow:global_step/sec: 93.3866\n",
      "INFO:tensorflow:loss = 29.830746, step = 1100 (1.070 sec)\n",
      "INFO:tensorflow:global_step/sec: 95.7321\n",
      "INFO:tensorflow:loss = 75.16713, step = 1200 (1.045 sec)\n",
      "INFO:tensorflow:global_step/sec: 93.4926\n",
      "INFO:tensorflow:loss = 46.549133, step = 1300 (1.070 sec)\n",
      "INFO:tensorflow:global_step/sec: 90.6177\n",
      "INFO:tensorflow:loss = 25.99311, step = 1400 (1.103 sec)\n",
      "INFO:tensorflow:global_step/sec: 73.8589\n",
      "INFO:tensorflow:loss = 61.255707, step = 1500 (1.354 sec)\n",
      "INFO:tensorflow:global_step/sec: 94.5305\n",
      "INFO:tensorflow:loss = 29.908642, step = 1600 (1.058 sec)\n",
      "INFO:tensorflow:global_step/sec: 97.4238\n",
      "INFO:tensorflow:loss = 35.279575, step = 1700 (1.026 sec)\n",
      "INFO:tensorflow:global_step/sec: 97.5144\n",
      "INFO:tensorflow:loss = 46.488037, step = 1800 (1.026 sec)\n",
      "INFO:tensorflow:global_step/sec: 94.2929\n",
      "INFO:tensorflow:loss = 253.06107, step = 1900 (1.061 sec)\n",
      "INFO:tensorflow:global_step/sec: 88.5426\n",
      "INFO:tensorflow:loss = 17.806416, step = 2000 (1.129 sec)\n",
      "INFO:tensorflow:global_step/sec: 84.2994\n",
      "INFO:tensorflow:loss = 12.248022, step = 2100 (1.186 sec)\n",
      "INFO:tensorflow:global_step/sec: 94.6938\n",
      "INFO:tensorflow:loss = 54.52321, step = 2200 (1.056 sec)\n",
      "INFO:tensorflow:global_step/sec: 95.3709\n",
      "INFO:tensorflow:loss = 21.54444, step = 2300 (1.048 sec)\n",
      "INFO:tensorflow:global_step/sec: 97.8015\n",
      "INFO:tensorflow:loss = 36.713383, step = 2400 (1.022 sec)\n",
      "INFO:tensorflow:global_step/sec: 93.3593\n",
      "INFO:tensorflow:loss = 17.849945, step = 2500 (1.071 sec)\n",
      "INFO:tensorflow:global_step/sec: 92.1976\n",
      "INFO:tensorflow:loss = 57.66929, step = 2600 (1.085 sec)\n",
      "INFO:tensorflow:global_step/sec: 94.4089\n",
      "INFO:tensorflow:loss = 81.01332, step = 2700 (1.059 sec)\n",
      "INFO:tensorflow:global_step/sec: 92.7715\n",
      "INFO:tensorflow:loss = 32.321823, step = 2800 (1.078 sec)\n",
      "INFO:tensorflow:global_step/sec: 79.5165\n",
      "INFO:tensorflow:loss = 41.4605, step = 2900 (1.257 sec)\n",
      "INFO:tensorflow:global_step/sec: 91.9108\n",
      "INFO:tensorflow:loss = 10.01362, step = 3000 (1.088 sec)\n",
      "INFO:tensorflow:global_step/sec: 91.9806\n",
      "INFO:tensorflow:loss = 43.788017, step = 3100 (1.088 sec)\n",
      "INFO:tensorflow:global_step/sec: 95.2066\n",
      "INFO:tensorflow:loss = 16.77837, step = 3200 (1.050 sec)\n",
      "INFO:tensorflow:global_step/sec: 93.0643\n",
      "INFO:tensorflow:loss = 66.75234, step = 3300 (1.074 sec)\n",
      "INFO:tensorflow:global_step/sec: 92.01\n",
      "INFO:tensorflow:loss = 23.837873, step = 3400 (1.087 sec)\n",
      "INFO:tensorflow:global_step/sec: 87.6433\n",
      "INFO:tensorflow:loss = 24.906487, step = 3500 (1.141 sec)\n",
      "INFO:tensorflow:global_step/sec: 89.6855\n",
      "INFO:tensorflow:loss = 43.56749, step = 3600 (1.115 sec)\n",
      "INFO:tensorflow:global_step/sec: 94.5944\n",
      "INFO:tensorflow:loss = 34.168976, step = 3700 (1.057 sec)\n",
      "INFO:tensorflow:global_step/sec: 94.7565\n",
      "INFO:tensorflow:loss = 24.003403, step = 3800 (1.055 sec)\n",
      "INFO:tensorflow:global_step/sec: 93.005\n",
      "INFO:tensorflow:loss = 16.070068, step = 3900 (1.075 sec)\n",
      "INFO:tensorflow:global_step/sec: 96.2383\n",
      "INFO:tensorflow:loss = 33.80336, step = 4000 (1.039 sec)\n",
      "INFO:tensorflow:global_step/sec: 98.6648\n",
      "INFO:tensorflow:loss = 18.629877, step = 4100 (1.014 sec)\n",
      "INFO:tensorflow:global_step/sec: 95.9923\n",
      "INFO:tensorflow:loss = 20.40496, step = 4200 (1.042 sec)\n",
      "INFO:tensorflow:global_step/sec: 72.7045\n",
      "INFO:tensorflow:loss = 9.657015, step = 4300 (1.375 sec)\n",
      "INFO:tensorflow:global_step/sec: 90.5911\n",
      "INFO:tensorflow:loss = 37.95572, step = 4400 (1.104 sec)\n",
      "INFO:tensorflow:global_step/sec: 100.326\n",
      "INFO:tensorflow:loss = 36.312767, step = 4500 (0.997 sec)\n",
      "INFO:tensorflow:global_step/sec: 95.4536\n",
      "INFO:tensorflow:loss = 24.829605, step = 4600 (1.048 sec)\n",
      "INFO:tensorflow:global_step/sec: 97.0286\n",
      "INFO:tensorflow:loss = 103.99996, step = 4700 (1.030 sec)\n",
      "INFO:tensorflow:global_step/sec: 96.8725\n",
      "INFO:tensorflow:loss = 8.713079, step = 4800 (1.032 sec)\n",
      "INFO:tensorflow:global_step/sec: 98.7523\n",
      "INFO:tensorflow:loss = 53.382378, step = 4900 (1.012 sec)\n",
      "INFO:tensorflow:global_step/sec: 94.5866\n",
      "INFO:tensorflow:loss = 91.67844, step = 5000 (1.057 sec)\n",
      "INFO:tensorflow:global_step/sec: 99.0142\n",
      "INFO:tensorflow:loss = 45.97039, step = 5100 (1.010 sec)\n",
      "INFO:tensorflow:global_step/sec: 88.8848\n",
      "INFO:tensorflow:loss = 47.758106, step = 5200 (1.125 sec)\n",
      "INFO:tensorflow:global_step/sec: 94.965\n",
      "INFO:tensorflow:loss = 28.571325, step = 5300 (1.053 sec)\n",
      "INFO:tensorflow:global_step/sec: 92.9329\n",
      "INFO:tensorflow:loss = 25.267738, step = 5400 (1.077 sec)\n",
      "INFO:tensorflow:global_step/sec: 92.5893\n",
      "INFO:tensorflow:loss = 16.643581, step = 5500 (1.079 sec)\n",
      "INFO:tensorflow:global_step/sec: 94.1303\n",
      "INFO:tensorflow:loss = 36.6444, step = 5600 (1.062 sec)\n",
      "INFO:tensorflow:global_step/sec: 80.4262\n",
      "INFO:tensorflow:loss = 110.72897, step = 5700 (1.243 sec)\n",
      "INFO:tensorflow:global_step/sec: 95.2365\n",
      "INFO:tensorflow:loss = 17.988811, step = 5800 (1.050 sec)\n",
      "INFO:tensorflow:global_step/sec: 96.8761\n",
      "INFO:tensorflow:loss = 11.12588, step = 5900 (1.032 sec)\n",
      "INFO:tensorflow:global_step/sec: 94.6612\n",
      "INFO:tensorflow:loss = 20.103245, step = 6000 (1.057 sec)\n",
      "INFO:tensorflow:global_step/sec: 92.5874\n",
      "INFO:tensorflow:loss = 26.02163, step = 6100 (1.080 sec)\n",
      "INFO:tensorflow:global_step/sec: 81.948\n",
      "INFO:tensorflow:loss = 13.290882, step = 6200 (1.221 sec)\n",
      "INFO:tensorflow:global_step/sec: 74.9884\n",
      "INFO:tensorflow:loss = 25.352787, step = 6300 (1.334 sec)\n",
      "INFO:tensorflow:global_step/sec: 63.1969\n",
      "INFO:tensorflow:loss = 54.200768, step = 6400 (1.583 sec)\n",
      "INFO:tensorflow:global_step/sec: 59.2013\n",
      "INFO:tensorflow:loss = 30.983343, step = 6500 (1.689 sec)\n"
     ]
    },
    {
     "name": "stdout",
     "output_type": "stream",
     "text": [
      "INFO:tensorflow:global_step/sec: 55.522\n",
      "INFO:tensorflow:loss = 10.128154, step = 6600 (1.801 sec)\n",
      "INFO:tensorflow:global_step/sec: 53.0517\n",
      "INFO:tensorflow:loss = 18.318747, step = 6700 (1.885 sec)\n",
      "INFO:tensorflow:global_step/sec: 51.7493\n",
      "INFO:tensorflow:loss = 11.475702, step = 6800 (1.933 sec)\n",
      "INFO:tensorflow:global_step/sec: 46.2366\n",
      "INFO:tensorflow:loss = 45.71422, step = 6900 (2.162 sec)\n",
      "INFO:tensorflow:global_step/sec: 49.5763\n",
      "INFO:tensorflow:loss = 25.916553, step = 7000 (2.017 sec)\n",
      "INFO:tensorflow:Saving checkpoints for 7035 into /var/folders/xm/rvswt1sx4rdf56_wpqz5rt4c0000gn/T/tmpxoatyww_/model.ckpt.\n",
      "INFO:tensorflow:Loss for final step: 11.8730755.\n"
     ]
    },
    {
     "data": {
      "text/plain": [
       "<tensorflow_estimator.python.estimator.canned.dnn_linear_combined.DNNLinearCombinedRegressorV2 at 0x13ef98250>"
      ]
     },
     "execution_count": 82,
     "metadata": {},
     "output_type": "execute_result"
    }
   ],
   "source": [
    "combined.train(input_fn=train_fn, steps=None)"
   ]
  },
  {
   "cell_type": "code",
   "execution_count": 83,
   "metadata": {},
   "outputs": [
    {
     "name": "stdout",
     "output_type": "stream",
     "text": [
      "INFO:tensorflow:Calling model_fn.\n",
      "WARNING:tensorflow:Layer dnn is casting an input tensor from dtype float64 to the layer's dtype of float32, which is new behavior in TensorFlow 2.  The layer has dtype float32 because it's dtype defaults to floatx.\n",
      "\n",
      "If you intended to run this layer in float32, you can safely ignore this warning. If in doubt, this warning is likely only an issue if you are porting a TensorFlow 1.X model to TensorFlow 2.\n",
      "\n",
      "To change all layers to have dtype float64 by default, call `tf.keras.backend.set_floatx('float64')`. To change just this layer, pass dtype='float64' to the layer constructor. If you are the author of this layer, you can disable autocasting by passing autocast=False to the base Layer constructor.\n",
      "\n",
      "WARNING:tensorflow:Layer linear/linear_model is casting an input tensor from dtype float64 to the layer's dtype of float32, which is new behavior in TensorFlow 2.  The layer has dtype float32 because it's dtype defaults to floatx.\n",
      "\n",
      "If you intended to run this layer in float32, you can safely ignore this warning. If in doubt, this warning is likely only an issue if you are porting a TensorFlow 1.X model to TensorFlow 2.\n",
      "\n",
      "To change all layers to have dtype float64 by default, call `tf.keras.backend.set_floatx('float64')`. To change just this layer, pass dtype='float64' to the layer constructor. If you are the author of this layer, you can disable autocasting by passing autocast=False to the base Layer constructor.\n",
      "\n",
      "INFO:tensorflow:Done calling model_fn.\n",
      "INFO:tensorflow:Starting evaluation at 2019-10-17T12:22:53Z\n",
      "INFO:tensorflow:Graph was finalized.\n",
      "INFO:tensorflow:Restoring parameters from /var/folders/xm/rvswt1sx4rdf56_wpqz5rt4c0000gn/T/tmpxoatyww_/model.ckpt-7035\n",
      "INFO:tensorflow:Running local_init_op.\n",
      "INFO:tensorflow:Done running local_init_op.\n",
      "INFO:tensorflow:Finished evaluation at 2019-10-17-12:23:22\n",
      "INFO:tensorflow:Saving dict for global step 7035: average_loss = 33.154842, global_step = 7035, label/mean = 11.34621, loss = 33.162357, prediction/mean = 11.051197\n",
      "INFO:tensorflow:Saving 'checkpoint_path' summary for global step 7035: /var/folders/xm/rvswt1sx4rdf56_wpqz5rt4c0000gn/T/tmpxoatyww_/model.ckpt-7035\n",
      "{'average_loss': 33.154842, 'label/mean': 11.34621, 'loss': 33.162357, 'prediction/mean': 11.051197, 'global_step': 7035}\n"
     ]
    }
   ],
   "source": [
    "print(combined.evaluate(input_fn=train_fn))"
   ]
  },
  {
   "cell_type": "code",
   "execution_count": 84,
   "metadata": {},
   "outputs": [
    {
     "name": "stdout",
     "output_type": "stream",
     "text": [
      "INFO:tensorflow:Calling model_fn.\n",
      "WARNING:tensorflow:Layer dnn is casting an input tensor from dtype float64 to the layer's dtype of float32, which is new behavior in TensorFlow 2.  The layer has dtype float32 because it's dtype defaults to floatx.\n",
      "\n",
      "If you intended to run this layer in float32, you can safely ignore this warning. If in doubt, this warning is likely only an issue if you are porting a TensorFlow 1.X model to TensorFlow 2.\n",
      "\n",
      "To change all layers to have dtype float64 by default, call `tf.keras.backend.set_floatx('float64')`. To change just this layer, pass dtype='float64' to the layer constructor. If you are the author of this layer, you can disable autocasting by passing autocast=False to the base Layer constructor.\n",
      "\n",
      "WARNING:tensorflow:Layer linear/linear_model is casting an input tensor from dtype float64 to the layer's dtype of float32, which is new behavior in TensorFlow 2.  The layer has dtype float32 because it's dtype defaults to floatx.\n",
      "\n",
      "If you intended to run this layer in float32, you can safely ignore this warning. If in doubt, this warning is likely only an issue if you are porting a TensorFlow 1.X model to TensorFlow 2.\n",
      "\n",
      "To change all layers to have dtype float64 by default, call `tf.keras.backend.set_floatx('float64')`. To change just this layer, pass dtype='float64' to the layer constructor. If you are the author of this layer, you can disable autocasting by passing autocast=False to the base Layer constructor.\n",
      "\n",
      "INFO:tensorflow:Done calling model_fn.\n",
      "INFO:tensorflow:Starting evaluation at 2019-10-17T12:23:24Z\n",
      "INFO:tensorflow:Graph was finalized.\n",
      "INFO:tensorflow:Restoring parameters from /var/folders/xm/rvswt1sx4rdf56_wpqz5rt4c0000gn/T/tmpxoatyww_/model.ckpt-7035\n",
      "INFO:tensorflow:Running local_init_op.\n",
      "INFO:tensorflow:Done running local_init_op.\n",
      "INFO:tensorflow:Finished evaluation at 2019-10-17-12:23:26\n",
      "INFO:tensorflow:Saving dict for global step 7035: average_loss = 43.093903, global_step = 7035, label/mean = 11.430718, loss = 42.99449, prediction/mean = 11.085575\n",
      "INFO:tensorflow:Saving 'checkpoint_path' summary for global step 7035: /var/folders/xm/rvswt1sx4rdf56_wpqz5rt4c0000gn/T/tmpxoatyww_/model.ckpt-7035\n",
      "{'average_loss': 43.093903, 'label/mean': 11.430718, 'loss': 42.99449, 'prediction/mean': 11.085575, 'global_step': 7035}\n"
     ]
    }
   ],
   "source": [
    "print(combined.evaluate(input_fn=eval_fnn))"
   ]
  },
  {
   "cell_type": "code",
   "execution_count": null,
   "metadata": {},
   "outputs": [],
   "source": []
  }
 ],
 "metadata": {
  "kernelspec": {
   "display_name": "Python 3",
   "language": "python",
   "name": "python3"
  },
  "language_info": {
   "codemirror_mode": {
    "name": "ipython",
    "version": 3
   },
   "file_extension": ".py",
   "mimetype": "text/x-python",
   "name": "python",
   "nbconvert_exporter": "python",
   "pygments_lexer": "ipython3",
   "version": "3.7.4"
  }
 },
 "nbformat": 4,
 "nbformat_minor": 2
}
